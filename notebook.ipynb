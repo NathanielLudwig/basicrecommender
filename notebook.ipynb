{
 "cells": [
  {
   "cell_type": "code",
   "execution_count": 13,
   "metadata": {},
   "outputs": [],
   "source": [
    "import numpy as np\n",
    "import pandas as pd\n",
    "from sklearn.feature_extraction.text import TfidfVectorizer\n",
    "from sklearn.metrics.pairwise import cosine_similarity"
   ]
  },
  {
   "cell_type": "code",
   "execution_count": 14,
   "metadata": {},
   "outputs": [],
   "source": [
    "#reading csv files\n",
    "movies = pd.read_csv(\"movies.csv\")\n",
    "tags = pd.read_csv(\"tags.csv\")"
   ]
  },
  {
   "cell_type": "code",
   "execution_count": 15,
   "metadata": {
    "scrolled": true
   },
   "outputs": [
    {
     "output_type": "execute_result",
     "data": {
      "text/plain": "   movieId                               title  \\\n0        1                    Toy Story (1995)   \n1        2                      Jumanji (1995)   \n2        3             Grumpier Old Men (1995)   \n3        4            Waiting to Exhale (1995)   \n4        5  Father of the Bride Part II (1995)   \n\n                                        genres  \n0  Adventure|Animation|Children|Comedy|Fantasy  \n1                   Adventure|Children|Fantasy  \n2                               Comedy|Romance  \n3                         Comedy|Drama|Romance  \n4                                       Comedy  ",
      "text/html": "<div>\n<style scoped>\n    .dataframe tbody tr th:only-of-type {\n        vertical-align: middle;\n    }\n\n    .dataframe tbody tr th {\n        vertical-align: top;\n    }\n\n    .dataframe thead th {\n        text-align: right;\n    }\n</style>\n<table border=\"1\" class=\"dataframe\">\n  <thead>\n    <tr style=\"text-align: right;\">\n      <th></th>\n      <th>movieId</th>\n      <th>title</th>\n      <th>genres</th>\n    </tr>\n  </thead>\n  <tbody>\n    <tr>\n      <th>0</th>\n      <td>1</td>\n      <td>Toy Story (1995)</td>\n      <td>Adventure|Animation|Children|Comedy|Fantasy</td>\n    </tr>\n    <tr>\n      <th>1</th>\n      <td>2</td>\n      <td>Jumanji (1995)</td>\n      <td>Adventure|Children|Fantasy</td>\n    </tr>\n    <tr>\n      <th>2</th>\n      <td>3</td>\n      <td>Grumpier Old Men (1995)</td>\n      <td>Comedy|Romance</td>\n    </tr>\n    <tr>\n      <th>3</th>\n      <td>4</td>\n      <td>Waiting to Exhale (1995)</td>\n      <td>Comedy|Drama|Romance</td>\n    </tr>\n    <tr>\n      <th>4</th>\n      <td>5</td>\n      <td>Father of the Bride Part II (1995)</td>\n      <td>Comedy</td>\n    </tr>\n  </tbody>\n</table>\n</div>"
     },
     "metadata": {},
     "execution_count": 15
    }
   ],
   "source": [
    "movies.head()"
   ]
  },
  {
   "cell_type": "code",
   "execution_count": 16,
   "metadata": {},
   "outputs": [
    {
     "output_type": "execute_result",
     "data": {
      "text/plain": "(3683, 6)"
     },
     "metadata": {},
     "execution_count": 16
    }
   ],
   "source": [
    "movies_tags = pd.merge(movies, tags)\n",
    "movies_tags.head()\n",
    "movies_tags.shape"
   ]
  },
  {
   "cell_type": "code",
   "execution_count": 17,
   "metadata": {},
   "outputs": [
    {
     "output_type": "execute_result",
     "data": {
      "text/plain": "   movieId                               title  \\\n0        1                    Toy Story (1995)   \n1        2                      Jumanji (1995)   \n2        3             Grumpier Old Men (1995)   \n3        5  Father of the Bride Part II (1995)   \n4        7                      Sabrina (1995)   \n\n                                        genres  \\\n0  Adventure|Animation|Children|Comedy|Fantasy   \n1                   Adventure|Children|Fantasy   \n2                               Comedy|Romance   \n3                                       Comedy   \n4                               Comedy|Romance   \n\n                                            tag  \n0                               pixar pixar fun  \n1  fantasy magic board game Robin Williams game  \n2                                     moldy old  \n3                              pregnancy remake  \n4                                        remake  ",
      "text/html": "<div>\n<style scoped>\n    .dataframe tbody tr th:only-of-type {\n        vertical-align: middle;\n    }\n\n    .dataframe tbody tr th {\n        vertical-align: top;\n    }\n\n    .dataframe thead th {\n        text-align: right;\n    }\n</style>\n<table border=\"1\" class=\"dataframe\">\n  <thead>\n    <tr style=\"text-align: right;\">\n      <th></th>\n      <th>movieId</th>\n      <th>title</th>\n      <th>genres</th>\n      <th>tag</th>\n    </tr>\n  </thead>\n  <tbody>\n    <tr>\n      <th>0</th>\n      <td>1</td>\n      <td>Toy Story (1995)</td>\n      <td>Adventure|Animation|Children|Comedy|Fantasy</td>\n      <td>pixar pixar fun</td>\n    </tr>\n    <tr>\n      <th>1</th>\n      <td>2</td>\n      <td>Jumanji (1995)</td>\n      <td>Adventure|Children|Fantasy</td>\n      <td>fantasy magic board game Robin Williams game</td>\n    </tr>\n    <tr>\n      <th>2</th>\n      <td>3</td>\n      <td>Grumpier Old Men (1995)</td>\n      <td>Comedy|Romance</td>\n      <td>moldy old</td>\n    </tr>\n    <tr>\n      <th>3</th>\n      <td>5</td>\n      <td>Father of the Bride Part II (1995)</td>\n      <td>Comedy</td>\n      <td>pregnancy remake</td>\n    </tr>\n    <tr>\n      <th>4</th>\n      <td>7</td>\n      <td>Sabrina (1995)</td>\n      <td>Comedy|Romance</td>\n      <td>remake</td>\n    </tr>\n  </tbody>\n</table>\n</div>"
     },
     "metadata": {},
     "execution_count": 17
    }
   ],
   "source": [
    "#combine tags based on movie\n",
    "movies_tags_combined = movies_tags.groupby([\"movieId\", \"title\", \"genres\"])[\"tag\"].apply(\" \".join).reset_index()\n",
    "movies_tags_combined.head()"
   ]
  },
  {
   "cell_type": "code",
   "execution_count": 22,
   "metadata": {},
   "outputs": [
    {
     "output_type": "execute_result",
     "data": {
      "text/plain": "   movieId                               title  \\\n0        1                    Toy Story (1995)   \n1        2                      Jumanji (1995)   \n2        3             Grumpier Old Men (1995)   \n3        5  Father of the Bride Part II (1995)   \n4        7                      Sabrina (1995)   \n5       11      American President, The (1995)   \n6       14                        Nixon (1995)   \n7       16                       Casino (1995)   \n8       17        Sense and Sensibility (1995)   \n9       21                   Get Shorty (1995)   \n\n                                        genres  \\\n0  Adventure|Animation|Children|Comedy|Fantasy   \n1                   Adventure|Children|Fantasy   \n2                               Comedy|Romance   \n3                                       Comedy   \n4                               Comedy|Romance   \n5                         Comedy|Drama|Romance   \n6                                        Drama   \n7                                  Crime|Drama   \n8                                Drama|Romance   \n9                        Comedy|Crime|Thriller   \n\n                                            tag  \\\n0                               pixar pixar fun   \n1  fantasy magic board game Robin Williams game   \n2                                     moldy old   \n3                              pregnancy remake   \n4                                        remake   \n5                            politics president   \n6                            politics president   \n7                                         Mafia   \n8                                   Jane Austen   \n9                                     Hollywood   \n\n                                            features  \n0  Adventure Animation Children Comedy Fantasy pi...  \n1  Adventure Children Fantasy fantasy magic board...  \n2                           Comedy Romance moldy old  \n3                            Comedy pregnancy remake  \n4                              Comedy Romance remake  \n5            Comedy Drama Romance politics president  \n6                           Drama politics president  \n7                                  Crime Drama Mafia  \n8                          Drama Romance Jane Austen  \n9                    Comedy Crime Thriller Hollywood  ",
      "text/html": "<div>\n<style scoped>\n    .dataframe tbody tr th:only-of-type {\n        vertical-align: middle;\n    }\n\n    .dataframe tbody tr th {\n        vertical-align: top;\n    }\n\n    .dataframe thead th {\n        text-align: right;\n    }\n</style>\n<table border=\"1\" class=\"dataframe\">\n  <thead>\n    <tr style=\"text-align: right;\">\n      <th></th>\n      <th>movieId</th>\n      <th>title</th>\n      <th>genres</th>\n      <th>tag</th>\n      <th>features</th>\n    </tr>\n  </thead>\n  <tbody>\n    <tr>\n      <th>0</th>\n      <td>1</td>\n      <td>Toy Story (1995)</td>\n      <td>Adventure|Animation|Children|Comedy|Fantasy</td>\n      <td>pixar pixar fun</td>\n      <td>Adventure Animation Children Comedy Fantasy pi...</td>\n    </tr>\n    <tr>\n      <th>1</th>\n      <td>2</td>\n      <td>Jumanji (1995)</td>\n      <td>Adventure|Children|Fantasy</td>\n      <td>fantasy magic board game Robin Williams game</td>\n      <td>Adventure Children Fantasy fantasy magic board...</td>\n    </tr>\n    <tr>\n      <th>2</th>\n      <td>3</td>\n      <td>Grumpier Old Men (1995)</td>\n      <td>Comedy|Romance</td>\n      <td>moldy old</td>\n      <td>Comedy Romance moldy old</td>\n    </tr>\n    <tr>\n      <th>3</th>\n      <td>5</td>\n      <td>Father of the Bride Part II (1995)</td>\n      <td>Comedy</td>\n      <td>pregnancy remake</td>\n      <td>Comedy pregnancy remake</td>\n    </tr>\n    <tr>\n      <th>4</th>\n      <td>7</td>\n      <td>Sabrina (1995)</td>\n      <td>Comedy|Romance</td>\n      <td>remake</td>\n      <td>Comedy Romance remake</td>\n    </tr>\n    <tr>\n      <th>5</th>\n      <td>11</td>\n      <td>American President, The (1995)</td>\n      <td>Comedy|Drama|Romance</td>\n      <td>politics president</td>\n      <td>Comedy Drama Romance politics president</td>\n    </tr>\n    <tr>\n      <th>6</th>\n      <td>14</td>\n      <td>Nixon (1995)</td>\n      <td>Drama</td>\n      <td>politics president</td>\n      <td>Drama politics president</td>\n    </tr>\n    <tr>\n      <th>7</th>\n      <td>16</td>\n      <td>Casino (1995)</td>\n      <td>Crime|Drama</td>\n      <td>Mafia</td>\n      <td>Crime Drama Mafia</td>\n    </tr>\n    <tr>\n      <th>8</th>\n      <td>17</td>\n      <td>Sense and Sensibility (1995)</td>\n      <td>Drama|Romance</td>\n      <td>Jane Austen</td>\n      <td>Drama Romance Jane Austen</td>\n    </tr>\n    <tr>\n      <th>9</th>\n      <td>21</td>\n      <td>Get Shorty (1995)</td>\n      <td>Comedy|Crime|Thriller</td>\n      <td>Hollywood</td>\n      <td>Comedy Crime Thriller Hollywood</td>\n    </tr>\n  </tbody>\n</table>\n</div>"
     },
     "metadata": {},
     "execution_count": 22
    }
   ],
   "source": [
    "def combine_genres_tags(row):\n",
    "    genres = row[\"genres\"].replace(\"|\", \" \")\n",
    "    return genres + \" \" + row[\"tag\"]\n",
    "movies_tags_combined[\"features\"] = movies_tags_combined.apply(combine_genres_tags, axis=1)\n",
    "movies_tags_combined.head(10)"
   ]
  },
  {
   "cell_type": "code",
   "execution_count": 19,
   "metadata": {},
   "outputs": [],
   "source": [
    "vectorizer = TfidfVectorizer(stop_words=\"english\")\n",
    "matrix = vectorizer.fit_transform(movies_tags_combined[\"features\"])"
   ]
  },
  {
   "cell_type": "code",
   "execution_count": 23,
   "metadata": {
    "scrolled": true
   },
   "outputs": [],
   "source": [
    "similarity = cosine_similarity(matrix)\n",
    "similar_movies = list(enumerate(similarity[6]))\n",
    "sorted_list = sorted(similar_movies, key=lambda m: m[1], reverse=True)[1:]"
   ]
  },
  {
   "cell_type": "code",
   "execution_count": 24,
   "metadata": {},
   "outputs": [
    {
     "output_type": "stream",
     "name": "stdout",
     "text": "American President, The (1995)\nJFK (1991)\nDave (1993)\nAir Force One (1997)\nMr. Smith Goes to Washington (1939)\n"
    }
   ],
   "source": [
    "def index_to_title(index):\n",
    "    return movies_tags_combined[movies_tags_combined.index == index][\"title\"].values[0]\n",
    "for i in range(5):\n",
    "    print(index_to_title(sorted_list[i][0]))"
   ]
  }
 ],
 "metadata": {
  "kernelspec": {
   "display_name": "Python 3",
   "language": "python",
   "name": "python3"
  },
  "language_info": {
   "codemirror_mode": {
    "name": "ipython",
    "version": 3
   },
   "file_extension": ".py",
   "mimetype": "text/x-python",
   "name": "python",
   "nbconvert_exporter": "python",
   "pygments_lexer": "ipython3",
   "version": "3.8.2-final"
  }
 },
 "nbformat": 4,
 "nbformat_minor": 4
}